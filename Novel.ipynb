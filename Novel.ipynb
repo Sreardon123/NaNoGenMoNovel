{
  "nbformat": 4,
  "nbformat_minor": 0,
  "metadata": {
    "colab": {
      "name": "Novel.ipynb",
      "provenance": [],
      "collapsed_sections": [],
      "authorship_tag": "ABX9TyNBXwyooPGALBKe11Gxs1+v",
      "include_colab_link": true
    },
    "kernelspec": {
      "name": "python3",
      "display_name": "Python 3"
    },
    "language_info": {
      "name": "python"
    }
  },
  "cells": [
    {
      "cell_type": "markdown",
      "metadata": {
        "id": "view-in-github",
        "colab_type": "text"
      },
      "source": [
        "<a href=\"https://colab.research.google.com/github/Sreardon123/NaNoGenMoNovel/blob/main/Novel.ipynb\" target=\"_parent\"><img src=\"https://colab.research.google.com/assets/colab-badge.svg\" alt=\"Open In Colab\"/></a>"
      ]
    },
    {
      "cell_type": "code",
      "metadata": {
        "colab": {
          "base_uri": "https://localhost:8080/"
        },
        "id": "hjYb2OY8XTTX",
        "outputId": "388d378f-87fa-4e91-a963-b1578257e297"
      },
      "source": [
        "!pip install tracery"
      ],
      "execution_count": 1,
      "outputs": [
        {
          "output_type": "stream",
          "name": "stdout",
          "text": [
            "Collecting tracery\n",
            "  Downloading tracery-0.1.1.tar.gz (8.1 kB)\n",
            "Building wheels for collected packages: tracery\n",
            "  Building wheel for tracery (setup.py) ... \u001b[?25l\u001b[?25hdone\n",
            "  Created wheel for tracery: filename=tracery-0.1.1-py3-none-any.whl size=7696 sha256=d64827acaf48931f294177afa6cde89757671f625a8cee361ae7128eacaec5f2\n",
            "  Stored in directory: /root/.cache/pip/wheels/14/38/48/da02ec3e9b648c4b52ffbdae69d9a1434e5cf621435f503486\n",
            "Successfully built tracery\n",
            "Installing collected packages: tracery\n",
            "Successfully installed tracery-0.1.1\n"
          ]
        }
      ]
    },
    {
      "cell_type": "code",
      "metadata": {
        "id": "FxzLnGDWh4rF"
      },
      "source": [
        "import tracery \n",
        "from tracery.modifiers import base_english\n",
        "import random"
      ],
      "execution_count": 2,
      "outputs": []
    },
    {
      "cell_type": "code",
      "metadata": {
        "id": "dg-9Bodmo4CP"
      },
      "source": [
        "rules = {\n",
        "    \"chapter_title\": [\"Let Me Help You\",\"Trust me\", \"I can help\"],\n",
        "\n",
        "    \"sentence\":[\n",
        "                \"Do you need help? Let me help. I know you've been dealing with a lot. \",\n",
        "                \"I can help. I know you've been dealing with a lot. I'm sure you could use a little downtime. \",\n",
        "                \"Here, let me get the door for you. Really, I can help you with that. Why don't you want my help? Do you need me to wash the dishes? \",\n",
        "                \"I can take care of your bills. I can pay for it. I'm glad to help. I can mow the lawn.  \",   \n",
        "                \"I can always help.  Please. Are you really okay? Are you sure? I can do it for you. Please let me help. Are you sure you're okay? I'd be happy to help! I can help. Are you sure you're okay? Let me help. I'll help you find it. Let me help. Really, I can help you with that. Why don't you want my help? I can help you clean. Would you like me to help you with that? Are you okay? I'd be happy to help! You really don't need my help? Help Do you need help? Let me help. I can take the trash out. Here, let me get the door for you. I know you've been dealing with a lot. Here, let me get the door for you. Do you want help? Would you like me to help you with that? I'm glad to help. Do you need help? Let me help. I know you've been dealing with a lot. Let me help. Here, let me get the door for you. Let me I can help. Are you sure you don't need my help? Do you need me to wash the dishes? But-- Let me help. Do you need some help? Do you need some help? Do you need some help? Do you need some help? Do you need help? Let me help. I know you've been dealing with a lot. Let me help. Please. Are you really okay? Are you sure? I can do it for you. Please let me help. Let me I'd be happy to help. I'm sure you could use a little downtime. Are you sure you're okay? I know you've been dealing with a lot. You really don't need my help? Here, let me get the door for you. Do you want help? Would you like me to help you with that? Would you like me to help you with that? I know you've been dealing with a lot. I'd be happy to help  I can help you clean. Would you like me to help you with that? I'd be happy to help  Do you need help? Let me help. Do you want me to help? Do you need some help? Do you need some help? Do you need me to wash the dishes? I can always help.  Would you like me to help you with that? I can help you clean. Would you like me to help you with that? I'd be happy to help! Would you like me to help you with that? Do you want help? Would you like me to help you with that? I can take the trash out. I'd be happy to help  Really, I can help. Let me help. Can I help? Would you like me to help you with that? Let me Do you need me to wash the dishes? Are you sure you don't need my help? Are you sure you're okay? I'd be happy to help! I can help. Are you sure you're okay? Let me help. I'll help you find it. Let me help. I can help you clean. Would you like me to help you with that? Are you okay? I'd be happy to help! You really don't need my help? Help Do you need help? Let me help.You really don't need my help? Are you sure you're okay? I know you've been dealing with a lot. Let me help. Here, let me get the door for you. Let me I can help. Are you sure you don't need my help? Do you need me to wash the dishes? But-- Let me help. Are you sure you're okay? I'd be happy to help! I can help. Are you sure you're okay? Let me help. I'll help you find it. Let me help. I can help you clean. Would you like me to help you with that? Are you okay? I'd be happy to help! You really don't need my help? Help Do you need help? Let me help.No, really-- Let me helpI can help. I know you've been dealing with a lot. Let me help. Please. I'm sure you could use a little downtime. Are you really okay? Are you sure? I can do it for you. Please let me help. I'd be happy to help  Really, I can help. Let me help. Can I help? You really don't need my help? Do you want help? Would you like me to help you with that? I'll pick up the groceries. Are you okay? Why not? Really, I can help. Let me help. You really don't need my help? I can help. Can I help? I can help. Are you sure you're okay? I'd be happy to help! I can help. Are you sure you're okay? Let me help. I'll help you find it. Let me help. I can help you clean. Would you like me to help you with that? Are you okay? I'd be happy to help! You really don't need my help? Help Do you need help? Let me help.Really? I can help. I can take the trash out. I can always help. I'll help you find it. Let me help. I know you've been dealing with a lot. I know you've been dealing with a lot. I can help you clean. Would you like me to help you with that? You really don't need my help? Let me I can definietly help. Let me help. I'd be happy to help! Would you like me to help you with that? Do you want help? Would you like me to help you with that? I can take the trash out. I'd be happy to help  Really, I can help. Let me help. Can I help? Would you like me to help you with that? Let me Do you need me to wash the dishes? I'll pick up the groceries. Can I help? Here, let me get the door for you. Here, let me get the door for you. Are you sure you're okay? I know you've been dealing with a lot. I'd be happy to help! Would you like me to help you with that? Do you want help? Would you like me to help you with that? I can take the trash out. I'd be happy to help  Really, I can help. Let me help. Can I help? Would you like me to help you with that? Let me Do you need me to wash the dishes? Let me Would you like me to help you with that? I know you've been dealing with a lot. I'd be happy to help  I can help you clean. Would you like me to help you with that? I'd be happy to help  Do you need help? Let me help. Do you want me to help? Do you need some help? Do you need some help? Do you need me to wash the dishes? I can always help.  Would you like me to help you with that? I can help you clean. Would you like me to help you with that? I'd be happy to help! Would you like me to help you with that? Do you want help? Do you need some help? Do you need some help? You seem lost. I can always help.  Would you like me to help you with that? Really? You really don't need my help? Are you sure?  Let me help. You seem lost.Would you like me to help you with that? \",\n",
        "                \"Why don't you let me do this? You can talk to me. You seem lost. I can buy you a drink.\",\n",
        "                \"Really, I can help you with that. Why don't you want my help? Why don't you let me do this? You can talk to me. Are you sure you don't need my help? You seem lost. \",\n",
        "                \"I can definietly help. Let me help. I'd be happy to help! Would you like me to help you with that? Do you want help? Would you like me to help you with that? I can take the trash out. I'd be happy to help  Really, I can help. Let me help. Can I help? Would you like me to help you with that? Let me Do you need me to wash the dishes? \",\n",
        "                \"I'd be happy to help. I'm sure you could use a little downtime.  I can buy us drinks. \",\n",
        "                \"Can I help? Here, let me get the door for you. You can talk to me. Here, let me get the door for you. \",\n",
        "                \"Would you like me to help you with that? I know you've been dealing with a lot. I'd be happy to help. I can mow the lawn. I can help you clean. Would you like me to help you with that? I'd be happy to help  Do you need help? Let me help. Do you want me to help? Really, I can help you with that. Why don't you want my help? Do you need some help? Do you need some help? Do you need me to wash the dishes? I can always help.  Would you like me to help you with that? I can help you clean. Would you like me to help you with that? I'd be happy to help! Would you like me to help you with that? Do you want help? Would you like me to help you with that? I can take the trash out. I'd be happy to help  Really, I can help. Let me help. Can I help? Would you like me to help you with that? Let me Do you need me to wash the dishes? Are you sure you don't need my help? Are you sure you're okay? I'd be happy to help! I can help. Are you sure you're okay? Let me help. I'll help you find it. Let me help. I can help you clean. Would you like me to help you with that? Are you okay? I'd be happy to help! You really don't need my help? Help Do you need help? Let me help.\",\n",
        "                \"Let me help. Please. Are you really okay? Are you sure? I can do it for you. Please let me help. Are you sure you're okay? I'd be happy to help! I can help. Are you sure you're okay? Let me help. I'll help you find it. Let me help. I can help you clean. Would you like me to help you with that? Are you okay? I'd be happy to help! You really don't need my help? Help Do you need help? Let me help. \",\n",
        "                \"Do you need some help? Do you need some help? You seem lost. I can mow the lawn. \",\n",
        "                \"I can take the trash out. Here, let me get the door for you. Why don't you let me do this? You can talk to me. You seem lost. I know you've been dealing with a lot. Here, let me get the door for you. Do you want help? Would you like me to help you with that? I'm glad to help. Do you need help? Let me help. I know you've been dealing with a lot. Let me help. Here, let me get the door for you. Let me I can help. Are you sure you don't need my help? Do you need me to wash the dishes? But-- Let me help. Do you need some help? Do you need some help? Do you need some help? Do you need some help? Do you need help? Let me help. I know you've been dealing with a lot. Let me help. Please. Are you really okay? Are you sure? I can do it for you. Please let me help. Let me I'd be happy to help. I'm sure you could use a little downtime. Are you sure you're okay? I know you've been dealing with a lot. You really don't need my help? Here, let me get the door for you. Do you want help? Would you like me to help you with that? Would you like me to help you with that? I know you've been dealing with a lot. I'd be happy to help  I can help you clean. Would you like me to help you with that? I'd be happy to help  Do you need help? Let me help. Do you want me to help? Do you need some help? Do you need some help? Do you need me to wash the dishes? I can always help.  Would you like me to help you with that? I can help you clean. Would you like me to help you with that? I'd be happy to help! Would you like me to help you with that? Do you want help? Would you like me to help you with that? I can take the trash out. I'd be happy to help  Really, I can help. Let me help. Can I help? Would you like me to help you with that? Let me Do you need me to wash the dishes? Are you sure you don't need my help? Are you sure you're okay? I'd be happy to help! I can help. Are you sure you're okay? Let me help. I'll help you find it. Let me help. I can help you clean. Would you like me to help you with that? Are you okay? I'd be happy to help! You really don't need my help? Help Do you need help? Let me help.You really don't need my help? Are you sure you're okay? I know you've been dealing with a lot. Let me help. Here, let me get the door for you. Let me I can help. Are you sure you don't need my help? Do you need me to wash the dishes? But-- Let me help. Are you sure you're okay? I'd be happy to help! I can help. Are you sure you're okay? Let me help. I'll help you find it. Let me help. I can help you clean. Would you like me to help you with that? Are you okay? I'd be happy to help! You really don't need my help? Help Do you need help? Let me help.No, really-- Let me helpI can help. I know you've been dealing with a lot. Let me help. Please. I'm sure you could use a little downtime. Are you really okay? Are you sure? I can do it for you. Please let me help. I'd be happy to help  Really, I can help. Let me help. Can I help? You really don't need my help? Do you want help? Would you like me to help you with that? I'll pick up the groceries. Are you okay? Why not? Really, I can help. Let me help. You really don't need my help? I can help. Can I help? I can help. Are you sure you're okay? I'd be happy to help! I can help. Are you sure you're okay? Let me help. I'll help you find it. Let me help. I can help you clean. Would you like me to help you with that? Are you okay? I'd be happy to help! You really don't need my help? Help Do you need help? Let me help.Really? I can help. I can take the trash out. I can always help. I'll help you find it. Let me help. I know you've been dealing with a lot. I know you've been dealing with a lot. I can help you clean. Would you like me to help you with that? You really don't need my help? Let me I can definietly help. Let me help. I'd be happy to help! Would you like me to help you with that? Do you want help? Would you like me to help you with that? I can take the trash out. I'd be happy to help  Really, I can help. Let me help. Can I help? Would you like me to help you with that? Let me Do you need me to wash the dishes? I'll pick up the groceries. Can I help? Here, let me get the door for you. Here, let me get the door for you. Are you sure you're okay? I know you've been dealing with a lot. I'd be happy to help! Would you like me to help you with that? Do you want help? Would you like me to help you with that? I can take the trash out. I'd be happy to help  Really, I can help. Let me help. Can I help? Would you like me to help you with that? Let me Do you need me to wash the dishes? Let me Would you like me to help you with that? I know you've been dealing with a lot. I'd be happy to help  I can help you clean. Would you like me to help you with that? I'd be happy to help  Do you need help? Let me help. Do you want me to help? Do you need some help? Do you need some help? Do you need me to wash the dishes? I can always help.  Would you like me to help you with that? I can help you clean. Would you like me to help you with that? I'd be happy to help! Would you like me to help you with that? Do you want help? \",\n",
        "                \"Really, I can help. I'm glad to help. I'm sure you could use a little downtime. Let me help. I can buy us drinks. \",\n",
        "                \"I can take the trash out. Here, let me get the door for you. I know you've been dealing with a lot. \",\n",
        "                \"I'll do it for you, don't worry. I know you've been dealing with a lot. \",\n",
        "                \"Here-- let me fix that for you. I'd be happy to help! You can talk to me.  Would you like me to help you with that? Do you want help? Would you like me to help you with that? I can take the trash out. I'd be happy to help. I'd be happy to help! Would you like me to help you with that? Do you want help? Would you like me to help you with that? I can take the trash out. I'd be happy to help  Really, I can help. Let me help. Can I help? Would you like me to help you with that? Let me Do you need me to wash the dishes? Really, I can help. Let me help. Can I help? Would you like me to help you with that? Let me Do you need me to wash the dishes? \",\n",
        "                \"You seem lost. I'll pick up the groceries. Here, let me get the door for you. Here, let me get the door for you. I'll do it for you, don't worry. I know you've been dealing with a lot. I can take the trash out. Here, let me get the door for you. Really, I can help you with that. Why don't you want my help? I know you've been dealing with a lot. Here, let me get the door for you. Do you want help? Would you like me to help you with that? I'm glad to help. Do you need help? Let me help. I know you've been dealing with a lot. Let me help. Here, let me get the door for you. Let me I can help. Are you sure you don't need my help? Do you need me to wash the dishes? But-- Let me help. Do you need some help? Do you need some help? Do you need some help? Do you need some help? Do you need help? Let me help. I know you've been dealing with a lot. Let me help. Please. Are you really okay? Are you sure? I can do it for you. Please let me help. Let me I'd be happy to help. I'm sure you could use a little downtime. Are you sure you're okay? I know you've been dealing with a lot. You really don't need my help? Here, let me get the door for you. Do you want help? Would you like me to help you with that? Would you like me to help you with that? I know you've been dealing with a lot. I'd be happy to help  I can help you clean. Would you like me to help you with that? I'd be happy to help  Do you need help? Let me help. Do you want me to help? Do you need some help? Do you need some help? Do you need me to wash the dishes? I can always help.  Would you like me to help you with that? I can help you clean. Would you like me to help you with that? I'd be happy to help! Would you like me to help you with that? Do you want help? Would you like me to help you with that? I can take the trash out. I'd be happy to help  Really, I can help. Let me help. Can I help? Would you like me to help you with that? Let me Do you need me to wash the dishes? Are you sure you don't need my help? Are you sure you're okay? I'd be happy to help! I can help. Are you sure you're okay? Let me help. I'll help you find it. Let me help. I can help you clean. Would you like me to help you with that? Are you okay? I'd be happy to help! You really don't need my help? Help Do you need help? Let me help.You really don't need my help? Are you sure you're okay? I know you've been dealing with a lot. Let me help. Here, let me get the door for you. Let me I can help. Are you sure you don't need my help? Do you need me to wash the dishes? But-- Let me help. Are you sure you're okay? I'd be happy to help! I can help. Are you sure you're okay? Let me help. I'll help you find it. Let me help. I can help you clean. Would you like me to help you with that? Are you okay? I'd be happy to help! You really don't need my help? Help Do you need help? Let me help.No, really-- Let me helpI can help. I know you've been dealing with a lot. Let me help. Please. I'm sure you could use a little downtime. Are you really okay? Are you sure? I can do it for you. Please let me help. I'd be happy to help  Really, I can help. Let me help. Can I help? You really don't need my help? Do you want help? Would you like me to help you with that? I'll pick up the groceries. Are you okay? Why not? Really, I can help. Let me help. You really don't need my help? I can help. Can I help? I can help. Are you sure you're okay? I'd be happy to help! I can help. Are you sure you're okay? Let me help. I'll help you find it. Let me help. I can help you clean. Would you like me to help you with that? Are you okay? I'd be happy to help! You really don't need my help? Help Do you need help? Let me help.Really? I can help. I can take the trash out. I can always help. I'll help you find it. Let me help. I know you've been dealing with a lot. I know you've been dealing with a lot. I can help you clean. Would you like me to help you with that? You really don't need my help? Let me I can definietly help. Let me help. I'd be happy to help! Would you like me to help you with that? Do you want help? Would you like me to help you with that? I can take the trash out. I'd be happy to help  Really, I can help. Let me help. Can I help? Would you like me to help you with that? Let me Do you need me to wash the dishes? I'll pick up the groceries. Can I help? Here, let me get the door for you. Here, let me get the door for you. Are you sure you're okay? I know you've been dealing with a lot. I'd be happy to help! Would you like me to help you with that? Do you want help? Would you like me to help you with that? I can take the trash out. I'd be happy to help  Really, I can help. Let me help. Can I help? Would you like me to help you with that? Let me Do you need me to wash the dishes? Let me Would you like me to help you with that? I know you've been dealing with a lot. I'd be happy to help  I can help you clean. Would you like me to help you with that? I'd be happy to help  Do you need help? Let me help. Do you want me to help? Do you need some help? Do you need some help? Do you need me to wash the dishes? I can always help.  Would you like me to help you with that? I can help you clean. Would you like me to help you with that? I'd be happy to help! Would you like me to help you with that? Do you want help? I can take care of your bills. I can pay for it. I'm glad to help. Are you sure you're okay? I know you've been dealing with a lot. I can always help.  Would you like me to help you with that? Are you sure you don't need my help? You seem lost. Do you need help? Let me help. I know you've been dealing with a lot. Let me. Why don't you want help? Let me help. Please. Are you really okay? Are you sure? I can do it for you. Please let me help. Are you sure you're okay? I'd be happy to help! I can help. Are you sure you're okay? Let me help. I'll help you find it. Let me help. I can help you clean. Would you like me to help you with that? Are you okay? I'd be happy to help! You really don't need my help? Help Do you need help? Let me help. I can help. I know you've been dealing with a lot. Let me help. Please. I'm sure you could use a little downtime. Are you really okay? Are you sure? I can do it for you. I'm glad to help. Please let me help. I'd be happy to help  Really, I can help. Let me help. Can I help? You really don't need my help? Do you want help? Would you like me to help you with that? I'll pick up the groceries. Are you okay? Why not? Really, I can help. Let me help. You really don't need my help? I can help. Can I help? I can help. Are you sure you're okay? I'd be happy to help! I can help. Are you sure you're okay? Let me help. I'll help you find it. Let me help. I can help you clean. Would you like me to help you with that? Are you okay? I'd be happy to help! You really don't need my help? Help Do you need help? Let me help.Really? I can help. I can take the trash out. I can always help. I'll help you find it. Let me help. I know you've been dealing with a lot. I can help. I know you've been dealing with a lot. Let me help. Please. I'm sure you could use a little downtime. Are you really okay? Are you sure? I can do it for you. I'm glad to help. Please let me help. I'd be happy to help  Really, I can help. Let me help. Can I help? You really don't need my help? Do you want help? Would you like me to help you with that? I'll pick up the groceries. Are you okay? Why not? Really, I can help. Let me help. You really don't need my help? I can help. Can I help? I can help. Are you sure you're okay? I'd be happy to help! I can help. Are you sure you're okay? Let me help. I'll help you find it. Let me help. I can help you clean. Would you like me to help you with that? Are you okay? I'd be happy to help! You really don't need my help? Help Do you need help? Let me help.Really? I can help. I can take the trash out. I can always help. I'll help you find it. Let me help. I know you've been dealing with a lot. Let me help. Please. Are you really okay? Are you sure? I can do it for you. Please let me help. Are you sure you're okay? I'd be happy to help! I can help. Are you sure you're okay? Let me help. I'll help you find it. Let me help. I can help you clean. Would you like me to help you with that? Are you okay? I'd be happy to help! You really don't need my help? Help Do you need help? Let me help. I can take the trash out. Here, let me get the door for you. I know you've been dealing with a lot. Here, let me get the door for you. Do you want help? Would you like me to help you with that? I'm glad to help. Do you need help? Let me help. I know you've been dealing with a lot. Let me help. Here, let me get the door for you. Let me I can help. Are you sure you don't need my help? Do you need me to wash the dishes? But-- Let me help. Do you need some help? Do you need some help? Do you need some help? Do you need some help? Do you need help? Let me help. I know you've been dealing with a lot. Let me help. Please. Are you really okay? Are you sure? I can do it for you. Please let me help. Let me I'd be happy to help. I'm sure you could use a little downtime. Are you sure you're okay? I know you've been dealing with a lot. You really don't need my help? Here, let me get the door for you. Do you want help? Would you like me to help you with that? Would you like me to help you with that? I know you've been dealing with a lot. I'd be happy to help  I can help you clean. Would you like me to help you with that? I'd be happy to help  Do you need help? Let me help. Do you want me to help? Do you need some help? Do you need some help? Do you need me to wash the dishes? I can always help.  Would you like me to help you with that? I can help you clean. Would you like me to help you with that? I'd be happy to help! Would you like me to help you with that? Do you want help? Would you like me to help you with that? I can take the trash out. I'd be happy to help  Really, I can help. Let me help. Can I help? Would you like me to help you with that? Let me. I can mow the lawn. I can buy you drinks.\",\n",
        "                \"I can help. I know you've been dealing with a lot. Let me help. Please. I'm sure you could use a little downtime. Are you really okay? Are you sure? I can do it for you. I'm glad to help. Please let me help. I'd be happy to help  Really, I can help. Really, I can help you with that. You can talk to me. Why don't you want my help? Let me help. Can I help? You really don't need my help? Do you want help? Would you like me to help you with that? I'll pick up the groceries. Are you okay? Why not? Really, I can help. Let me help. You really don't need my help? I can help. Can I help? I can help. Are you sure you're okay? I'd be happy to help! I can help. Are you sure you're okay? Let me help. I'll help you find it. Let me help. I can help you clean. Would you like me to help you with that? Are you okay? I'd be happy to help! You really don't need my help? Help Do you need help? Let me help.Really? I can help. I can take the trash out. I can always help. \"\n",
        "                \"I'll help you find it. I can buy dinner. Let me help. I know you've been dealing with a lot. \",\n",
        "                \"Are you okay? I'm glad to help. Here, let me get the door for you. I know you've been dealing with a lot. \",\n",
        "                \"Are you sure you're okay? I know you've been dealing with a lot. \",\n",
        "                \"You really don't need my help? Are you sure? I can take care of that for you.\",\n",
        "                \"I'm glad to help. Here, let me get the door for you. Do you want help? Really, I can help you with that. Why don't you want my help? Would you like me to help you with that? \",\n",
        "                \"I'm sure you could use a little downtime. Do you want me to help? \",\n",
        "                \"You seem lost. I can buy you drinks. Do you want me to help you? I know you've been dealing with a lot. \",\n",
        "                \"I know you've been dealing with a lot. I can help you clean. Would you like me to help you with that? \",\n",
        "                \"Are you sure you're okay? I'd be happy to help! I can help. Are you sure you're okay? Let me help. I'll help you find it. Let me help. I can help you clean. Would you like me to help you with that? Are you okay? I'd be happy to help! You can talk to me. Really, I can help you with that. Why don't you want my help? You really don't need my help? Help Do you need help? Let me help.\",\n",
        "                \"Are you okay? Here, let me get the door for you. Really, I can help. Let me help. Why don't you let me do this?\",\n",
        "                \"Let me help. You seem lost. Here, let me get the door for you. Let me I can help. Are you sure you don't need my help? Do you need me to wash the dishes? I'm glad to help. But-- Let me help. \",\n",
        "                \"I'd be happy to help! Would you like me to help you with that? Do you want help? Would you like me to help you with that? I can take the trash out. I'd be happy to help  Really, I can help. Let me help. Can I help? Would you like me to help you with that? Really, I can help you with that. Why don't you want my help? Let me. Do you need me to wash the dishes? \",\n",
        "                \"I'd be happy to help! I know you've been dealing with a lot. I'm sure you use a little downtime. \",\n",
        "\n",
        "    ],\n",
        "\n",
        "    \"word\": [\n",
        "             \"Oh-- \",\n",
        "             \"Really? No, really. I can help.\",\n",
        "             \"Why not? \",\n",
        "             \"Let me. Why don't you want help? \",\n",
        "             \"Please let me help. Please--\",\n",
        "             \"I can pay for it. \",\n",
        "             \"Please-- Here, let me get the door for you.\",\n",
        "             \"But-- \",\n",
        "             \"No, really-- Let me help\",\n",
        "             \"Don't worry. Here, let me get the door for you.\",\n",
        "             \n",
        "    ],\n",
        "    \"paragraph\":[\n",
        "                \"#sentence##sentence##sentence##sentence##word##sentence#\\n\\n\",\n",
        "                \"#sentence##sentence##word##sentence#\\n\\n\",\n",
        "                \"#sentence##sentence##sentence##sentence##sentence##sentence#\\n\\n\",\n",
        "                \"#sentence##sentence##sentence##sentence#\\n\\n\",\n",
        "                 \"#sentence##sentence##sentence##sentence##word##sentence#\\n\\n\",\n",
        "                \"#sentence##sentence##word##word##sentence#\\n\\n\",\n",
        "        \n",
        "\n",
        "    ],\n",
        "    \"chapter\":[\n",
        "               \"#paragraph##paragraph##paragraph##paragraph##paragraph##paragraph##paragraph##paragraph#\",\n",
        "               \"#paragraph##paragraph##paragraph##paragraph##paragraph##paragraph##paragraph#\",\n",
        "               \"#paragraph##paragraph##paragraph##paragraph##paragraph##paragraph#\",\n",
        "               \"#paragraph##paragraph##paragraph##paragraph##paragraph##paragraph##paragraph##paragraph##paragraph#\",\n",
        "               \"#paragraph##paragraph##paragraph##paragraph##paragraph##paragraph##paragraph#\",\n",
        "               \"#paragraph##paragraph##paragraph##paragraph##paragraph##paragraph#\",\n",
        "               \"#paragraph#\",\n",
        "\n",
        "    ],\n",
        "     \"origin\":\"\"\"\n",
        "      \n",
        "\\# Too Much Help\n",
        "\n",
        "\\#\\# #chapter_title#\n",
        "\n",
        "#chapter#\n",
        "\n",
        "#chapter_title#\n",
        "\n",
        "#chapter#\n",
        "\n",
        "#chapter_title#\n",
        "\n",
        "#chapter#\n",
        "\n",
        "#chapter_title#\n",
        "\n",
        "#chapter#\n",
        "\n",
        "#chapter_title#\n",
        "\n",
        "#chapter#\n",
        "\n",
        "#chapter_title#\n",
        "\n",
        "#chapter#\n",
        "\n",
        "#chapter_title#\n",
        "\n",
        "#chapter#\n",
        "\n",
        "#chapter_title#\n",
        "\n",
        "#chapter#\n",
        "\n",
        "#chapter_title#\n",
        "\n",
        "    \"\"\"\n",
        "}\n",
        "\n",
        "grammar = tracery.Grammar(rules)\n",
        "grammar.add_modifiers(base_english)\n",
        "\n",
        "novel = grammar.flatten(\"#origin#\")"
      ],
      "execution_count": 22,
      "outputs": []
    },
    {
      "cell_type": "code",
      "metadata": {
        "id": "_LGNpaslXL3n"
      },
      "source": [
        "print(novel)"
      ],
      "execution_count": null,
      "outputs": []
    },
    {
      "cell_type": "code",
      "metadata": {
        "id": "qhvhlV6SXH7Y",
        "colab": {
          "base_uri": "https://localhost:8080/"
        },
        "outputId": "d8fb490a-d1b7-46e2-d5b8-dab60805ef5a"
      },
      "source": [
        "len(novel.split (\" \"))"
      ],
      "execution_count": 23,
      "outputs": [
        {
          "output_type": "execute_result",
          "data": {
            "text/plain": [
              "56242"
            ]
          },
          "metadata": {},
          "execution_count": 23
        }
      ]
    },
    {
      "cell_type": "code",
      "metadata": {
        "id": "0jr6itikReKw",
        "colab": {
          "base_uri": "https://localhost:8080/"
        },
        "outputId": "ba71d1f1-6b18-4936-fa3e-600f4152e8a6"
      },
      "source": [
        "!pip install weasyprint==52.5\n",
        "\n",
        "import markdown\n",
        "html = markdown.markdown(novel)\n",
        "\n",
        "from weasyprint import HTML, CSS\n",
        "from weasyprint.fonts import FontConfiguration\n",
        "font_config = FontConfiguration()\n",
        "rendered_html = HTML(string=html)"
      ],
      "execution_count": 6,
      "outputs": [
        {
          "output_type": "stream",
          "name": "stdout",
          "text": [
            "Collecting weasyprint==52.5\n",
            "  Downloading WeasyPrint-52.5-py3-none-any.whl (365 kB)\n",
            "\u001b[?25l\r\u001b[K     |█                               | 10 kB 25.6 MB/s eta 0:00:01\r\u001b[K     |█▉                              | 20 kB 28.4 MB/s eta 0:00:01\r\u001b[K     |██▊                             | 30 kB 12.2 MB/s eta 0:00:01\r\u001b[K     |███▋                            | 40 kB 9.2 MB/s eta 0:00:01\r\u001b[K     |████▌                           | 51 kB 5.2 MB/s eta 0:00:01\r\u001b[K     |█████▍                          | 61 kB 5.8 MB/s eta 0:00:01\r\u001b[K     |██████▎                         | 71 kB 5.5 MB/s eta 0:00:01\r\u001b[K     |███████▏                        | 81 kB 6.2 MB/s eta 0:00:01\r\u001b[K     |████████                        | 92 kB 4.7 MB/s eta 0:00:01\r\u001b[K     |█████████                       | 102 kB 5.0 MB/s eta 0:00:01\r\u001b[K     |█████████▉                      | 112 kB 5.0 MB/s eta 0:00:01\r\u001b[K     |██████████▊                     | 122 kB 5.0 MB/s eta 0:00:01\r\u001b[K     |███████████▋                    | 133 kB 5.0 MB/s eta 0:00:01\r\u001b[K     |████████████▋                   | 143 kB 5.0 MB/s eta 0:00:01\r\u001b[K     |█████████████▌                  | 153 kB 5.0 MB/s eta 0:00:01\r\u001b[K     |██████████████▍                 | 163 kB 5.0 MB/s eta 0:00:01\r\u001b[K     |███████████████▎                | 174 kB 5.0 MB/s eta 0:00:01\r\u001b[K     |████████████████▏               | 184 kB 5.0 MB/s eta 0:00:01\r\u001b[K     |█████████████████               | 194 kB 5.0 MB/s eta 0:00:01\r\u001b[K     |██████████████████              | 204 kB 5.0 MB/s eta 0:00:01\r\u001b[K     |██████████████████▉             | 215 kB 5.0 MB/s eta 0:00:01\r\u001b[K     |███████████████████▊            | 225 kB 5.0 MB/s eta 0:00:01\r\u001b[K     |████████████████████▋           | 235 kB 5.0 MB/s eta 0:00:01\r\u001b[K     |█████████████████████▌          | 245 kB 5.0 MB/s eta 0:00:01\r\u001b[K     |██████████████████████▍         | 256 kB 5.0 MB/s eta 0:00:01\r\u001b[K     |███████████████████████▎        | 266 kB 5.0 MB/s eta 0:00:01\r\u001b[K     |████████████████████████▏       | 276 kB 5.0 MB/s eta 0:00:01\r\u001b[K     |█████████████████████████▏      | 286 kB 5.0 MB/s eta 0:00:01\r\u001b[K     |██████████████████████████      | 296 kB 5.0 MB/s eta 0:00:01\r\u001b[K     |███████████████████████████     | 307 kB 5.0 MB/s eta 0:00:01\r\u001b[K     |███████████████████████████▉    | 317 kB 5.0 MB/s eta 0:00:01\r\u001b[K     |████████████████████████████▊   | 327 kB 5.0 MB/s eta 0:00:01\r\u001b[K     |█████████████████████████████▋  | 337 kB 5.0 MB/s eta 0:00:01\r\u001b[K     |██████████████████████████████▌ | 348 kB 5.0 MB/s eta 0:00:01\r\u001b[K     |███████████████████████████████▍| 358 kB 5.0 MB/s eta 0:00:01\r\u001b[K     |████████████████████████████████| 365 kB 5.0 MB/s \n",
            "\u001b[?25hCollecting cssselect2>=0.1\n",
            "  Downloading cssselect2-0.4.1-py3-none-any.whl (13 kB)\n",
            "Requirement already satisfied: setuptools>=39.2.0 in /usr/local/lib/python3.7/dist-packages (from weasyprint==52.5) (57.4.0)\n",
            "Collecting Pyphen>=0.9.1\n",
            "  Downloading pyphen-0.11.0-py3-none-any.whl (2.0 MB)\n",
            "\u001b[K     |████████████████████████████████| 2.0 MB 41.6 MB/s \n",
            "\u001b[?25hRequirement already satisfied: html5lib>=0.999999999 in /usr/local/lib/python3.7/dist-packages (from weasyprint==52.5) (1.0.1)\n",
            "Requirement already satisfied: Pillow>=4.0.0 in /usr/local/lib/python3.7/dist-packages (from weasyprint==52.5) (7.1.2)\n",
            "Requirement already satisfied: cffi>=0.6 in /usr/local/lib/python3.7/dist-packages (from weasyprint==52.5) (1.14.6)\n",
            "Collecting CairoSVG>=2.4.0\n",
            "  Downloading CairoSVG-2.5.2-py3-none-any.whl (45 kB)\n",
            "\u001b[K     |████████████████████████████████| 45 kB 3.2 MB/s \n",
            "\u001b[?25hCollecting cairocffi>=0.9.0\n",
            "  Downloading cairocffi-1.3.0.tar.gz (88 kB)\n",
            "\u001b[K     |████████████████████████████████| 88 kB 7.3 MB/s \n",
            "\u001b[?25hCollecting tinycss2>=1.0.0\n",
            "  Downloading tinycss2-1.1.0-py3-none-any.whl (21 kB)\n",
            "Requirement already satisfied: defusedxml in /usr/local/lib/python3.7/dist-packages (from CairoSVG>=2.4.0->weasyprint==52.5) (0.7.1)\n",
            "Requirement already satisfied: pycparser in /usr/local/lib/python3.7/dist-packages (from cffi>=0.6->weasyprint==52.5) (2.20)\n",
            "Requirement already satisfied: webencodings in /usr/local/lib/python3.7/dist-packages (from cssselect2>=0.1->weasyprint==52.5) (0.5.1)\n",
            "Requirement already satisfied: six>=1.9 in /usr/local/lib/python3.7/dist-packages (from html5lib>=0.999999999->weasyprint==52.5) (1.15.0)\n",
            "Building wheels for collected packages: cairocffi\n",
            "  Building wheel for cairocffi (setup.py) ... \u001b[?25l\u001b[?25hdone\n",
            "  Created wheel for cairocffi: filename=cairocffi-1.3.0-py3-none-any.whl size=89667 sha256=6067b53c1fca06ca70feb32f54b6c79056f8f55b2bfabaf722697d1c38abaf46\n",
            "  Stored in directory: /root/.cache/pip/wheels/4e/ca/e1/5c8a9692a27f639a07c949044bec943f26c81cd53d3805319f\n",
            "Successfully built cairocffi\n",
            "Installing collected packages: tinycss2, cssselect2, cairocffi, Pyphen, CairoSVG, weasyprint\n",
            "Successfully installed CairoSVG-2.5.2 Pyphen-0.11.0 cairocffi-1.3.0 cssselect2-0.4.1 tinycss2-1.1.0 weasyprint-52.5\n"
          ]
        }
      ]
    },
    {
      "cell_type": "code",
      "metadata": {
        "id": "7gyTx1BDSNJc"
      },
      "source": [
        "css = CSS(string='''\n",
        "@import url('https://fonts.googleapis.com/css2?family=Festive&display=swap');\n",
        "\n",
        "@import url('https://fonts.googleapis.com/css2?family=Roboto+Condensed:wght@300&display=swap');\n",
        "\n",
        "@import url('https://fonts.googleapis.com/css2?family=Merriweather:wght@300&display=swap');\n",
        "\n",
        "@import url('https://fonts.googleapis.com/css2?family=Josefin+Sans:wght@100&display=swap');\n",
        "\n",
        "body {\n",
        "font-family: 'Roboto Condensed', serif;\n",
        "}\n",
        "\n",
        "hr {\n",
        "  break-after: recto; \n",
        "}\n",
        "\n",
        "h1 {\n",
        "  font-size: 50pt;\n",
        "  text-align:center;\n",
        "  margin-top: 3in;\n",
        "  font-family: 'Josefin Sans', sans-serif;\n",
        "  color:#8B0000;\n",
        "}\n",
        "h2{\n",
        "  break-before: recto;\n",
        "  font-size: 50pt;\n",
        "  font-family: 'Josefin Sans',sans-serif;\n",
        "   color:#8B0000;\n",
        "}\n",
        "\n",
        "h3 {\n",
        "  font-size: 20pt;\n",
        "  text-align:center;\n",
        "}\n",
        "\n",
        "/* set the basic page geometry and start the incrementer */\n",
        "@page {\n",
        "  font-family: 'Roboto Condensed', serif;\n",
        "  margin: 1in;\n",
        "  size: letter;\n",
        "  counter-increment: page;\n",
        "  @bottom-center {\n",
        "    content: \"Too Much Help\";\n",
        "    text-align:center;\n",
        "    font-style: italic;\n",
        "    color: #666666;\n",
        "  }\n",
        "}\n",
        "\n",
        "/* print the page number on the bottom-right of recto pages */\n",
        "@page :right {\n",
        "  @bottom-right{\n",
        "    content: \"[\" counter(page) \"]\";\n",
        "    text-align:right;\n",
        "    color: #666666;\n",
        "    visibility: invisible;\n",
        "  }\n",
        "}\n",
        "\n",
        "/* print the page number on the bottom-left of verso pages */\n",
        "@page :left {\n",
        "  @bottom-left{\n",
        "    content: \"[\" counter(page) \"]\";\n",
        "    text-align:left;\n",
        "    color: #666666;\n",
        "  }\n",
        "}\n",
        "\n",
        "/* blank the footer on the first page */\n",
        "@page:first{\n",
        "  @bottom-left {content: \"\"}\n",
        "  @bottom-right {content: \"\"}\n",
        "  @bottom-center {content: \"\"}\n",
        "}\n",
        "\n",
        "\n",
        "''', font_config=font_config)"
      ],
      "execution_count": 7,
      "outputs": []
    },
    {
      "cell_type": "code",
      "metadata": {
        "id": "dmygKhzhSsuj"
      },
      "source": [
        "rendered_html.write_pdf('/content/Novelsample-8.pdf', stylesheets=[css],font_config=font_config)"
      ],
      "execution_count": 24,
      "outputs": []
    }
  ]
}